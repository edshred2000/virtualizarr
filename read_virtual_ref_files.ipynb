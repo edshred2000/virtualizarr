{
 "cells": [
  {
   "cell_type": "markdown",
   "id": "180973dc-a4fc-43aa-bbc5-d56ce3e9edba",
   "metadata": {},
   "source": [
    "# Working with Cloud Optimized NASA Earth Science Data\n",
    "\n",
    "#### *Author: Ed Armstrong, PO.DAAC*\n",
    "\n",
    "*Reference herein to any specific commercial product, process, or service by trade name, trademark, manufacturer, or otherwise, does not constitute or imply its endorsement by the United States Government or the Jet Propulsion Laboratory, California Institute of Technology.*"
   ]
  },
  {
   "cell_type": "markdown",
   "id": "31e719d0-17d1-45e9-9933-cb49a7cef7a9",
   "metadata": {},
   "source": [
    "## Summary\n",
    "\n",
    "Lightweight notebook to read, condition and plot various NASA cloud optimized earth science datasets created with virtualizarr or kerchunk\n"
   ]
  },
  {
   "cell_type": "markdown",
   "id": "88f65dd1-39f6-480a-aa63-adbbd9863e8f",
   "metadata": {},
   "source": [
    "## Import Packages\n",
    "#### ***Note using Zarr Version 2***"
   ]
  },
  {
   "cell_type": "code",
   "execution_count": 1,
   "id": "48a8e49f-68eb-4624-bb49-17fa292d9ba8",
   "metadata": {},
   "outputs": [
    {
     "name": "stdout",
     "output_type": "stream",
     "text": [
      "Note: you may need to restart the kernel to use updated packages.\n"
     ]
    }
   ],
   "source": [
    "pip install earthaccess>=0.13.0 zarr==2.18.7 fastparquet>=2024.5.0 xarray==2025.4.0 fsspec>=2024.10.0 \"dask[complete]\">=2024.5.2 h5netcdf==1.3.0 ujson>=5.10.0 matplotlib>=3.9.2  kerchunk==0.2.7 virtualizarr==1.3.2  cftime cartopy"
   ]
  },
  {
   "cell_type": "code",
   "execution_count": 2,
   "id": "b540440c-8cf8-4e4c-b2dc-9fb394ac3c65",
   "metadata": {},
   "outputs": [
    {
     "name": "stdout",
     "output_type": "stream",
     "text": [
      "kerchunk                  0.2.7\n",
      "virtualizarr              1.3.2\n",
      "xarray                    2025.4.0\n",
      "zarr                      2.18.7\n",
      "Note: you may need to restart the kernel to use updated packages.\n"
     ]
    }
   ],
   "source": [
    "pip list | grep -E \"zarr|xarray|virtualizarr|kerchunk\""
   ]
  },
  {
   "cell_type": "code",
   "execution_count": 3,
   "id": "fc0b1c0c-c8f9-412c-8038-4b674de896c9",
   "metadata": {},
   "outputs": [],
   "source": [
    "# Built-in packages\n",
    "import os\n",
    "import sys\n",
    "\n",
    "# Filesystem management \n",
    "import fsspec\n",
    "import earthaccess\n",
    "\n",
    "# Data handling\n",
    "import xarray as xr\n",
    "import numpy as np\n",
    "\n",
    "# Parallel computing \n",
    "import multiprocessing\n",
    "from dask import delayed\n",
    "import dask.array as da\n",
    "from dask.distributed import Client\n",
    "\n",
    "# Other\n",
    "import matplotlib.pyplot as plt\n",
    "import cartopy.crs as ccrs\n",
    "import cartopy.feature as cfeature"
   ]
  },
  {
   "cell_type": "markdown",
   "id": "e9e58626-85f4-4fed-b5af-04736ca6f83d",
   "metadata": {},
   "source": [
    "## Other Setup"
   ]
  },
  {
   "cell_type": "code",
   "execution_count": 4,
   "id": "22c5a123-6025-4a85-a7b0-4b9b747a9a8d",
   "metadata": {},
   "outputs": [
    {
     "data": {
      "text/plain": [
       "<xarray.core.options.set_options at 0x7bc00630d9a0>"
      ]
     },
     "execution_count": 4,
     "metadata": {},
     "output_type": "execute_result"
    }
   ],
   "source": [
    "xr.set_options( # display options for xarray objects\n",
    "    display_expand_attrs=False,\n",
    "    display_expand_coords=True,\n",
    "    display_expand_data=True,\n",
    ")"
   ]
  },
  {
   "cell_type": "markdown",
   "id": "6901e7c4-66ca-4dfb-bd8f-aaf2f0291764",
   "metadata": {},
   "source": [
    "## 1. Get Data File S3 endpoints in Earthdata Cloud \n",
    "The first step is to find the S3 endpoints to the files. Handling access credentials to Earthdata and then finding the endpoints can be done a number of ways (e.g. using the `requests`, `s3fs` packages) but we use the `earthaccess` package for its ease of use. We get the endpoints for all files in the CCMP record."
   ]
  },
  {
   "cell_type": "code",
   "execution_count": 5,
   "id": "3b8a7acf-96b2-47fd-8b9a-1816c30fdaea",
   "metadata": {},
   "outputs": [
    {
     "name": "stdin",
     "output_type": "stream",
     "text": [
      "Enter your Earthdata Login username:  edward.m.armstrong\n",
      "Enter your Earthdata password:  ········\n"
     ]
    },
    {
     "data": {
      "text/plain": [
       "<earthaccess.auth.Auth at 0x7bc0740c50a0>"
      ]
     },
     "execution_count": 5,
     "metadata": {},
     "output_type": "execute_result"
    }
   ],
   "source": [
    "# Get Earthdata creds\n",
    "earthaccess.login()"
   ]
  },
  {
   "cell_type": "code",
   "execution_count": 22,
   "id": "766d9b5f-6e4b-46f3-909f-f6fe42e6c3ff",
   "metadata": {},
   "outputs": [],
   "source": [
    "# Get AWS creds. Note that if you spend more than 1 hour in the notebook, you may have to re-run this line!!!\n",
    "fs = earthaccess.get_s3_filesystem(daac=\"PODAAC\")\n",
    "\n",
    "# Get AWS creds. Note that if you spend more than 1 hour in the notebook, you may have to re-run this line!!!\n",
    "#fs = earthaccess.get_fsspec_https_session() "
   ]
  },
  {
   "cell_type": "markdown",
   "id": "20756ad2-4fdf-4f7a-8582-aa7d59ea35e5",
   "metadata": {},
   "source": [
    "## 2. Open reference files from S3 bucket"
   ]
  },
  {
   "cell_type": "markdown",
   "id": "28b850da-5df5-460e-81f3-0450a2904667",
   "metadata": {},
   "source": [
    "The reference can be saved to file and used to open the corresponding CCMP data file with Xarray:"
   ]
  },
  {
   "cell_type": "code",
   "execution_count": 23,
   "id": "15707ccc-fcb3-4bf9-94cb-71b11d468054",
   "metadata": {},
   "outputs": [],
   "source": [
    "# Open data using the reference file, using a small wrapper function around xarray's open_dataset. \n",
    "# This will shorten code blocks in other sections. \n",
    "def opends_withref(ref, fs_data):\n",
    "    \"\"\"\n",
    "    \"ref\" is a reference file or object. \"fs_data\" is a filesystem with credentials to\n",
    "    access the actual data files. \n",
    "    \"\"\"\n",
    "    storage_opts = {\"fo\": ref, \"remote_protocol\": \"s3\", \"remote_options\": fs_data.storage_options}\n",
    "    fs_ref = fsspec.filesystem('reference', **storage_opts)\n",
    "    m = fs_ref.get_mapper('')\n",
    "    data = xr.open_dataset(\n",
    "        m, engine=\"zarr\", chunks={},\n",
    "        backend_kwargs={\"consolidated\": False}\n",
    "    )\n",
    "    return data"
   ]
  },
  {
   "cell_type": "markdown",
   "id": "7681f502-5a1d-46a5-b4aa-38ae8b5a99cd",
   "metadata": {},
   "source": [
    "### OSTIA Daily Sea Surface Temperature (OSTIA-UKMO-L4-GLOB-REP-v2.0)"
   ]
  },
  {
   "cell_type": "code",
   "execution_count": 24,
   "id": "b02a2f1c-2b53-4a0b-ba0e-2bc0a35fce00",
   "metadata": {},
   "outputs": [
    {
     "name": "stdout",
     "output_type": "stream",
     "text": [
      "<xarray.Dataset> Size: 11TB\n",
      "Dimensions:           (time: 15340, lat: 3600, lon: 7200)\n",
      "Coordinates:\n",
      "  * lat               (lat) float32 14kB -89.97 -89.93 -89.88 ... 89.93 89.97\n",
      "  * lon               (lon) float32 29kB -180.0 -179.9 -179.9 ... 179.9 180.0\n",
      "  * time              (time) datetime64[ns] 123kB 1982-01-01T12:00:00 ... 202...\n",
      "Data variables:\n",
      "    analysed_sst      (time, lat, lon) float64 3TB dask.array<chunksize=(1, 1200, 2400), meta=np.ndarray>\n",
      "    analysis_error    (time, lat, lon) float64 3TB dask.array<chunksize=(1, 1200, 2400), meta=np.ndarray>\n",
      "    mask              (time, lat, lon) float32 2TB dask.array<chunksize=(1, 1800, 3600), meta=np.ndarray>\n",
      "    sea_ice_fraction  (time, lat, lon) float64 3TB dask.array<chunksize=(1, 1800, 3600), meta=np.ndarray>\n",
      "Attributes: (39)\n",
      "CPU times: user 2.6 s, sys: 328 ms, total: 2.92 s\n",
      "Wall time: 6.84 s\n"
     ]
    }
   ],
   "source": [
    "%%time\n",
    "\n",
    "# Open the OSTIA Reprocessed SST reference file (OSTIA-UKMO-L4-GLOB-REP-v2.0)\n",
    "sst_ds = opends_withref('https://archive.podaac.earthdata.nasa.gov/podaac-ops-cumulus-docs/ghrsst/open/docs/OSTIA-UKMO-L4-GLOB-REP-v2.0_combined-ref.json', fs)\n",
    "#sst_ds = opends_withref('https://archive.podaac.earthdata.nasa.gov/podaac-ops-cumulus-public/virtual_collections/OSTIA-UKMO-L4-GLOB-REP-v2.0/OSTIA-UKMO-L4-GLOB-REP-v2.0_virtual.json', fs)\n",
    "print(sst_ds)\n",
    "#sst_ds"
   ]
  },
  {
   "cell_type": "markdown",
   "id": "4b4176a5-ea08-4083-a641-0ebb8a972693",
   "metadata": {},
   "source": [
    "### OSCAR Daily Ocean Surface Currents SST (OSCAR_L4_OC_FINAL_V2.0)"
   ]
  },
  {
   "cell_type": "code",
   "execution_count": null,
   "id": "e46d461e-e15c-407e-8834-56a7295528e6",
   "metadata": {},
   "outputs": [],
   "source": [
    "%%time\n",
    "\n",
    "# Open the OSCAR  Currents reference file (OSCAR_L4_OC_FINAL_V2.0)\n",
    "curr_ds = opends_withref('https://archive.podaac.earthdata.nasa.gov/podaac-ops-cumulus-docs/oscar/open/L4/oscar_v2.0/docs/OSCAR_L4_OC_FINAL_V2.0_combined-ref.json', fs)\n",
    "\n",
    "# set the 'time' to an understandable ISO format\n",
    "datetimeindex = curr_ds.indexes['time'].to_datetimeindex()\n",
    "curr_ds['time'] = datetimeindex\n",
    "\n",
    "# Fix the two NaN values in the lon and lat variables that correspond to 0\n",
    "curr_ds['lat'][359] = 0.0\n",
    "curr_ds['lon'][0] = 0.0\n",
    "\n",
    "print(curr_ds)\n",
    "curr_ds"
   ]
  },
  {
   "cell_type": "markdown",
   "id": "5bd4aabf-b4f0-4146-8287-327d5e90222d",
   "metadata": {},
   "source": [
    "### CCMP 6 Hourly Ocean Winds (CCMP_WINDS_10M6HR_L4_V3.1)"
   ]
  },
  {
   "cell_type": "code",
   "execution_count": null,
   "id": "ffa16883-ee21-4e9b-a75e-ed20ee91459b",
   "metadata": {},
   "outputs": [],
   "source": [
    "%%time\n",
    "\n",
    "# Open the CCMP Winds reference file (CCMP_WINDS_10M6HR_L4_V3.1)\n",
    "wind_ds = opends_withref('https://archive.podaac.earthdata.nasa.gov/podaac-ops-cumulus-docs/ccmp/open/L4_V3.1/docs/CCMP_WINDS_10M6HR_L4_V3.1_combined-ref.json', fs)\n",
    "\n",
    "print(wind_ds)\n",
    "#wind_ds"
   ]
  },
  {
   "cell_type": "markdown",
   "id": "af3d92cd-cf1c-4581-b7ff-a272d9ad0a7d",
   "metadata": {},
   "source": [
    "### Data set up and conditioning"
   ]
  },
  {
   "cell_type": "code",
   "execution_count": null,
   "id": "d4d9c3ad-52bd-4728-9064-e0f0f51926fc",
   "metadata": {},
   "outputs": [],
   "source": [
    "%%time\n",
    "\n",
    "# Define region\n",
    "#offshore Monterey Bay, CA as a one degree box \n",
    "\n",
    "# Gulf of Tehuantepec, MX\n",
    "lat_min = 14.\n",
    "lat_max = 15.\n",
    "lon_min = -96.\n",
    "lon_max = -95.\n",
    "\n",
    "lat_range = (lat_min, lat_max)\n",
    "lon_range = (lon_min, lon_max)\n",
    "\n",
    "# for datasets that use 0-360 deg lon\n",
    "lon_range_360 = (lon_min+360, lon_max+360)\n",
    "\n",
    "# Define the time slice \n",
    "start_date = '1993-01-01'\n",
    "end_date = '2002-12-31'\n",
    "time_range =(start_date, end_date)\n",
    "\n",
    "# Subset the datasets\n",
    "# OSTIA SST\n",
    "sst = sst_ds['analysed_sst'].sel(lon=slice(*lon_range), lat=slice(*lat_range), time=slice(*time_range))\n",
    "\n",
    "# CCMP Wind uses 0-360 deg longitudes\n",
    "wind_speed = wind_ds['ws'].sel(longitude=slice(*lon_range_360), latitude=slice(*lat_range), time=slice(*time_range))\n",
    "\n",
    "# OSCAR Current uses 0-360 deg longitudes\n",
    "#u_curr = curr_ds['u'].sel(longitude=slice(*lon_range_360), latitude=slice(*lat_range), time=slice(*time_range))\n",
    "#v_curr = curr_ds['v'].sel(longitude=slice(*lon_range_360), latitude=slice(*lat_range), time=slice(*time_range))\n",
    "\n",
    "# Compute regional means\n",
    "sst_mean = sst.mean(dim=[\"lat\", \"lon\"])\n",
    "wind_speed_mean = wind_speed.mean(dim=[\"latitude\", \"longitude\"])\n",
    "#current = np.sqrt(u_curr**2 + v_curr**2)\n",
    "#current_mean = current.mean(dim=[\"latitude\", \"longitude\"])\n",
    "\n",
    "print(\"sst values \", sst_mean[0:20].values)\n",
    "print(\"wind values \", wind_speed_mean[0:20].values)\n",
    "#print(\"current values \", current_mean[0:20].values)\n",
    "print(\"done w initial data conditioning and subsetting \\n\")"
   ]
  },
  {
   "cell_type": "markdown",
   "id": "39fd31b8-8755-4e7e-913c-9de6079076d2",
   "metadata": {},
   "source": [
    "### Resample the means to a different time scale (e.g., monthly) and load into memory"
   ]
  },
  {
   "cell_type": "code",
   "execution_count": null,
   "id": "2cb2c645-15dc-4672-9deb-4728f599f60e",
   "metadata": {},
   "outputs": [],
   "source": [
    "%%time\n",
    "\n",
    "# Execute Tasks: Convert to weekly (1W) monthly (1ME) or annual means (1YE).  \n",
    "# use load() to load the result into memory in preparation for plotting\n",
    "\n",
    "sst_resample = sst_mean.resample(time=\"1ME\").mean().load()\n",
    "wind_speed_resample = wind_speed_mean.resample(time=\"1ME\").mean().load()\n",
    "#current_resample = current_mean.resample(time=\"1ME\").mean().load()\n",
    "\n",
    "#print(sst_resample.size, sst_mean.size)\n",
    "#print(wind_speed_resample.size, wind_speed_mean.size)"
   ]
  },
  {
   "cell_type": "markdown",
   "id": "061d4d09-2cad-4fe5-b007-fdfe9ec50d49",
   "metadata": {},
   "source": [
    "### Plot the result"
   ]
  },
  {
   "cell_type": "code",
   "execution_count": null,
   "id": "29c41cab-66d4-4002-b0c9-003a70402125",
   "metadata": {},
   "outputs": [],
   "source": [
    "# Plot set up\n",
    "fig, ax1 = plt.subplots(figsize=(10, 6))\n",
    "\n",
    "color = 'tab:blue'\n",
    "ax1.set_xlabel('Year')\n",
    "ax1.set_ylabel('SST (°K)', color=color)\n",
    "ax1.plot(sst_resample['time'], sst_resample, linewidth=3, color=color, label='SST')\n",
    "ax1.tick_params(axis='y', labelcolor=color)\n",
    "\n",
    "ax2 = ax1.twinx()\n",
    "color = 'tab:red'\n",
    "ax2.set_ylabel('Wind Speed (m/s)', color=color)\n",
    "ax2.plot(wind_speed_resample['time'], wind_speed_resample, color=color, label='Wind Speed')\n",
    "ax2.tick_params(axis='y', labelcolor=color)\n",
    "\n",
    "fig.tight_layout()\n",
    "plt.title(\"SST and Ocean Surface Wind Speed \")\n",
    "plt.show()"
   ]
  },
  {
   "cell_type": "markdown",
   "id": "030cc3dc-17a1-4ad6-9cc5-84eac22c6364",
   "metadata": {},
   "source": [
    "### Another method to do the same thing with reduced code"
   ]
  },
  {
   "cell_type": "code",
   "execution_count": null,
   "id": "8e7ad543-e109-4ce9-99c0-bf0715dcf29c",
   "metadata": {},
   "outputs": [],
   "source": [
    "%%time\n",
    "\n",
    "# Another method to subset, resample, and average the xarray data all on one line\n",
    "sst_resample = sst_ds.analysed_sst.sel(lon=slice(*lon_range), lat=slice(*lat_range), time=slice(*time_range)).mean([\"lat\", \"lon\"]).resample(time=\"1ME\").mean().load()\n",
    "wind_speed_resample = wind_ds.ws.sel(longitude=slice(*lon_range_360), latitude=slice(*lat_range), time=slice(*time_range)).mean([\"latitude\", \"longitude\"]).resample(time=\"1ME\").mean().load()"
   ]
  },
  {
   "cell_type": "markdown",
   "id": "925c78c5-e5f9-4b19-98d1-64ff3ee4490c",
   "metadata": {},
   "source": [
    "### Check with a plot "
   ]
  },
  {
   "cell_type": "code",
   "execution_count": null,
   "id": "7e7330b5-d231-459a-b129-6660c08ac713",
   "metadata": {},
   "outputs": [],
   "source": [
    "# Check with a plot \n",
    "fig, ax1 = plt.subplots(figsize=(10, 6))\n",
    "\n",
    "color = 'tab:blue'\n",
    "ax1.set_xlabel('Year')\n",
    "ax1.set_ylabel('SST (°K)', color=color)\n",
    "ax1.plot(sst_resample['time'], sst_resample, linewidth=3, color=color, label='SST')\n",
    "ax1.tick_params(axis='y', labelcolor=color)\n",
    "\n",
    "ax2 = ax1.twinx()\n",
    "color = 'tab:red'\n",
    "ax2.set_ylabel('Wind Speed (m/s)', color=color)\n",
    "ax2.plot(wind_speed_resample['time'], wind_speed_resample, color=color, label='Wind Speed')\n",
    "ax2.tick_params(axis='y', labelcolor=color)\n",
    "\n",
    "fig.tight_layout()\n",
    "plt.title(\"SST and Ocean Surface Wind Speed\")\n",
    "plt.show()"
   ]
  },
  {
   "cell_type": "markdown",
   "id": "45afb1e0-93c4-42bf-89aa-570aaaa60b6f",
   "metadata": {},
   "source": [
    "### Yet a third way using coarsen() v.s. resample()"
   ]
  },
  {
   "cell_type": "code",
   "execution_count": null,
   "id": "82720b8c-6d25-4d86-a516-4900929c68a7",
   "metadata": {},
   "outputs": [],
   "source": [
    "%%time \n",
    "# Yet a third method using coarsen()\n",
    "# Not as systematic as resample()\n",
    "\n",
    "#set time to the resample (coarsen)  time, e.g., 365 is number of days in a year, 1460 6 hour time steps etc. \n",
    "sst_resample = sst_mean.coarsen(time=30, boundary='trim').mean().load()\n",
    "wind_speed_resample = wind_speed_mean.coarsen(time=180, boundary='trim').mean().load()\n",
    "#current_resample = current_mean.coarsen(time=365, boundary='trim').mean().load()\n"
   ]
  },
  {
   "cell_type": "markdown",
   "id": "bb0f34ca-f5b1-4f44-b8ee-39538e5736b0",
   "metadata": {},
   "source": [
    "### Check with a plot "
   ]
  },
  {
   "cell_type": "code",
   "execution_count": null,
   "id": "008e6833-8805-4693-ac92-2aa72dd510a8",
   "metadata": {},
   "outputs": [],
   "source": [
    "# Check with a plot \n",
    "fig, ax1 = plt.subplots(figsize=(10, 6))\n",
    "\n",
    "color = 'tab:blue'\n",
    "ax1.set_xlabel('Year')\n",
    "ax1.set_ylabel('SST (°K)', color=color)\n",
    "ax1.plot(sst_resample['time'], sst_resample, linewidth=3,color=color, label='SST')\n",
    "ax1.tick_params(axis='y', labelcolor=color)\n",
    "\n",
    "ax2 = ax1.twinx()\n",
    "color = 'tab:red'\n",
    "ax2.set_ylabel('Wind Speed (m/s)', color=color)\n",
    "ax2.plot(wind_speed_resample['time'], wind_speed_resample, color=color, label='Wind Speed')\n",
    "ax2.tick_params(axis='y', labelcolor=color)\n",
    "\n",
    "fig.tight_layout()\n",
    "plt.title(\"SST and Ocean Surface Wind Speed\")\n",
    "plt.show()"
   ]
  },
  {
   "cell_type": "markdown",
   "id": "593c9315-2a87-4672-9c9e-f5295a202204",
   "metadata": {},
   "source": [
    "### Use parallel processing to speed the resample() approach"
   ]
  },
  {
   "cell_type": "code",
   "execution_count": null,
   "id": "18f3f0ff-7046-4270-a099-8f500a316ebe",
   "metadata": {},
   "outputs": [],
   "source": [
    "# Set up parallel processing\n",
    "\n",
    "# Check how many cpu's are on this VM:\n",
    "print(\"CPU count =\", multiprocessing.cpu_count())\n",
    "\n",
    "# Start up cluster and print some information about it:\n",
    "client = Client(n_workers=8, threads_per_worker=1)\n",
    "print(client.cluster)\n",
    "print(\"View any work being done on the cluster here\", client.dashboard_link)"
   ]
  },
  {
   "cell_type": "code",
   "execution_count": null,
   "id": "74b2f7e4-3c96-4cec-baee-df0a5a770e07",
   "metadata": {},
   "outputs": [],
   "source": [
    "%%time\n",
    "\n",
    "# Execute Tasks: Convert to weekly (1W) monthly (1ME) or annual means (1YE).  \n",
    "# use load() to load into memory the result\n",
    "sst_resample = sst_mean.resample(time=\"1ME\").mean().load()\n",
    "wind_speed_resample = wind_speed_mean.resample(time=\"1ME\").mean().load()\n",
    "#current_resample = current_mean.resample(time=\"1ME\").mean()\n",
    "\n",
    "# Trigger computation with parallel execution....optional\n",
    "sst_data, wind_speed_data = da.compute(sst_resample, wind_speed_resample)"
   ]
  },
  {
   "cell_type": "markdown",
   "id": "c4bf2550-0ccc-4f53-abaa-3d0c47845f5b",
   "metadata": {},
   "source": [
    "### Check with a plot "
   ]
  },
  {
   "cell_type": "code",
   "execution_count": null,
   "id": "2fc81159-1f6f-40e5-b6f4-eafa61abb349",
   "metadata": {},
   "outputs": [],
   "source": [
    "# Check with a plot \n",
    "fig, ax1 = plt.subplots(figsize=(10, 6))\n",
    "\n",
    "color = 'tab:blue'\n",
    "ax1.set_xlabel('Year')\n",
    "ax1.set_ylabel('SST (°K)', color=color)\n",
    "ax1.plot(sst_resample['time'], sst_resample, linewidth=3,color=color, label='SST')\n",
    "ax1.tick_params(axis='y', labelcolor=color)\n",
    "\n",
    "ax2 = ax1.twinx()\n",
    "color = 'tab:red'\n",
    "ax2.set_ylabel('Wind Speed (m/s)', color=color)\n",
    "ax2.plot(wind_speed_resample['time'], wind_speed_resample, color=color, label='Wind Speed')\n",
    "ax2.tick_params(axis='y', labelcolor=color)\n",
    "\n",
    "fig.tight_layout()\n",
    "plt.title(\"SST and Ocean Surface Wind Speed\")\n",
    "plt.show()"
   ]
  },
  {
   "cell_type": "code",
   "execution_count": 25,
   "id": "a2d03801-5e10-4a57-92a9-8eb5e83a6ded",
   "metadata": {},
   "outputs": [
    {
     "name": "stdout",
     "output_type": "stream",
     "text": [
      "<xarray.DataArray 'analysed_sst' (time: 1302, lat: 100, lon: 100)> Size: 104MB\n",
      "dask.array<getitem, shape=(1302, 100, 100), dtype=float64, chunksize=(1, 100, 100), chunktype=numpy.ndarray>\n",
      "Coordinates:\n",
      "  * lat      (lat) float32 400B 12.02 12.07 12.12 12.18 ... 16.88 16.92 16.98\n",
      "  * lon      (lon) float32 400B -96.97 -96.93 -96.88 ... -92.12 -92.07 -92.03\n",
      "  * time     (time) datetime64[ns] 10kB 1982-01-01T12:00:00 ... 2023-01-31T12...\n",
      "Attributes: (7)\n",
      "CPU times: user 404 ms, sys: 8.73 ms, total: 412 ms\n",
      "Wall time: 411 ms\n"
     ]
    }
   ],
   "source": [
    "%%time\n",
    "\n",
    "# Define spatial region, adjust as needed\n",
    "\n",
    "# Gulf of Tehuantepec, MX\n",
    "lat_min = 12.\n",
    "lat_max = 17.\n",
    "lon_min = -97.\n",
    "lon_max = -92.\n",
    "\n",
    "lat_range = (lat_min, lat_max)\n",
    "lon_range = (lon_min, lon_max)\n",
    "\n",
    "# Define the time slice \n",
    "start_date = '1982-01-01'\n",
    "end_date = '2023-12-31'\n",
    "time_range =(start_date, end_date)\n",
    "\n",
    "# Subset the datasets\n",
    "# OSTIA SST\n",
    "sst_region = sst_ds['analysed_sst'].sel(lon=slice(*lon_range), lat=slice(*lat_range), time=slice(*time_range))\n",
    "\n",
    "# Select only January time steps using .dt.month == 1\n",
    "sst_month = sst_region.sel(time=sst_region['time'].dt.month == 1)\n",
    "print(sst_month)"
   ]
  },
  {
   "cell_type": "code",
   "execution_count": 27,
   "id": "902671bf-5f09-45f2-ab04-9b992a970edc",
   "metadata": {},
   "outputs": [
    {
     "name": "stdout",
     "output_type": "stream",
     "text": [
      "CPU times: user 46.1 s, sys: 10.5 s, total: 56.6 s\n",
      "Wall time: 23.9 s\n"
     ]
    }
   ],
   "source": [
    "%%time\n",
    "\n",
    "# calculate and plot the spatial mean and convert to degrees Celsius\n",
    "sst_month_avg = sst_month.mean(dim='time').compute() - 273.15\n",
    "\n",
    "#sst_month_avg = sst_month.mean(dim='time').load() - 273.15"
   ]
  },
  {
   "cell_type": "code",
   "execution_count": 14,
   "id": "a6d8172a-b1d2-46cf-845b-6a41353c51cf",
   "metadata": {},
   "outputs": [
    {
     "data": {
      "image/png": "[encoded data removed]",
      "text/plain": [
       "<Figure size 1000x600 with 2 Axes>"
      ]
     },
     "metadata": {},
     "output_type": "display_data"
    }
   ],
   "source": [
    "# Create the figure and axes using a PlateCarree projection\n",
    "fig, ax = plt.subplots(figsize=(10, 6), subplot_kw={'projection': ccrs.PlateCarree()})\n",
    "\n",
    "# Plot the data\n",
    "sst_month_avg.plot(\n",
    "    ax=ax,\n",
    "    transform=ccrs.PlateCarree(),\n",
    "    cmap='coolwarm',\n",
    "    vmin=23, vmax=28,\n",
    "    cbar_kwargs={'label': 'SST (°C)'}\n",
    ")\n",
    "\n",
    "# Add coastlines and land\n",
    "ax.coastlines(resolution='10m', linewidth=0.8)\n",
    "#ax.add_feature(cfeature.LAND, facecolor='lightgray')\n",
    "ax.add_feature(cfeature.BORDERS, linestyle=':')\n",
    "\n",
    "from cartopy.feature import NaturalEarthFeature\n",
    "land_10m = NaturalEarthFeature('physical', 'land', '10m', facecolor='lightgray')\n",
    "ax.add_feature(land_10m)\n",
    "\n",
    "# Set the extent of the region\n",
    "ax.set_extent([lon_min, lon_max, lat_min, lat_max], crs=ccrs.PlateCarree())\n",
    "\n",
    "# Add gridlines\n",
    "gl = ax.gridlines(draw_labels=True, linewidth=0.5, color='gray', linestyle='--')\n",
    "gl.top_labels = False\n",
    "gl.right_labels = False\n",
    "\n",
    "plt.title('Average January SST, 1982-2023\\n 12°–17°N, 97°–92°W')\n",
    "plt.show()\n"
   ]
  },
  {
   "cell_type": "code",
   "execution_count": null,
   "id": "54c7818a-bbc8-4f95-8aa5-bf20ce956aef",
   "metadata": {},
   "outputs": [],
   "source": []
  }
 ],
 "metadata": {
  "kernelspec": {
   "display_name": "Python 3 (ipykernel)",
   "language": "python",
   "name": "python3"
  },
  "language_info": {
   "codemirror_mode": {
    "name": "ipython",
    "version": 3
   },
   "file_extension": ".py",
   "mimetype": "text/x-python",
   "name": "python",
   "nbconvert_exporter": "python",
   "pygments_lexer": "ipython3",
   "version": "3.12.9"
  }
 },
 "nbformat": 4,
 "nbformat_minor": 5
}
