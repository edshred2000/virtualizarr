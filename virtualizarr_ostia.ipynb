{
 "cells": [
  {
   "cell_type": "markdown",
   "id": "180973dc-a4fc-43aa-bbc5-d56ce3e9edba",
   "metadata": {},
   "source": [
    "# VirtualiZarr Useful Recipes with NASA Earthdata\n",
    "\n",
    "#### *Author: Dean Henze, PO.DAAC*\n",
    "\n",
    "*Reference herein to any specific commercial product, process, or service by trade name, trademark, manufacturer, or otherwise, does not constitute or imply its endorsement by the United States Government or the Jet Propulsion Laboratory, California Institute of Technology.*"
   ]
  },
  {
   "cell_type": "markdown",
   "id": "31e719d0-17d1-45e9-9933-cb49a7cef7a9",
   "metadata": {},
   "source": [
    "## Summary\n",
    "\n",
    "This notebook goes through several functionalities of the VirtualiZarr package to create virtual reference files, specifically using it with NASA Earthdata and utilizing the `earthaccess` package. It is meant to be a quick-start reference that introduces some key capabilities / characteristics of the package once a user has a high-level understanding of virtual data sets and the cloud-computing challenges they address (see references in the *Prerequisite knowledge* section below). In short, VirtualiZarr is a Python package to create \"reference files\", which can be thought of as road maps for the computer to efficiently navigate through large arrays in a single data file, or across many files. Once a reference file for a data set is created, utilizing it to open the data can speed up several processes including lazy loading, accessing subsets, and in some cases performing computations. Importantly, one can create a combined reference for all the files in a dataset and use it to lazy load / access the entire record at once.\n",
    "\n",
    "The functionalities of VirtualiZarr (with earthaccess) covered in this notebook are:\n",
    "\n",
    "1. **Getting Data File endpoints in Earthdata Cloud** which are needed for virtualizarr to create reference files.\n",
    "2. **Generating reference files for 1 day, 1 year, and the entire record of a ~750 GB data set**. The data set used is the Level 4 global gridded 6-hourly wind product from the Cross-Calibrated Multi-Platform project (https://doi.org/10.5067/CCMP-6HW10M-L4V31), available on PO.DAAC. This section also covers speeding up the reference creation using parallel computing. Reference files are saved in both JSON and PARQUET formats. The latter is an important format as it reduces the reference file size by ~30x in our tests. *Saving in ice chunk formats will be tested / covered in the coming months.*\n",
    "3. **Combining reference files (in progress)**. The ability to combine reference files together is valuable, for example to upate reference files for forward-streaming datasets when new data are available, without re-creating the entire record from scratch. However, with the current workflows and version of VirtualiZarr, this is not possible due to our use of a specific kwarg when creating the reference files. The workflow is still included here (with errors) because it is anticipated that this will be fixed in upcoming versions. Alternately, the use of ice chunk will also likely solve this issue (ice chunk functionality to be tested soon). "
   ]
  },
  {
   "cell_type": "markdown",
   "id": "bbce1593-e158-44d4-aab8-9f91027a19ba",
   "metadata": {},
   "source": [
    "## Requirements, prerequisite knowledge, learning outcomes\n",
    "\n",
    "#### Requirements to run this notebook\n",
    "\n",
    "* Earthdata login account: An Earthdata Login account is required to access data from the NASA Earthdata system. Please visit https://urs.earthdata.nasa.gov to register and manage your Earthdata Login account.\n",
    "\n",
    "* Compute environment: This notebook is meant to be run in the cloud (AWS instance running in us-west-2). We used an `m6i.4xlarge` EC2 instance (16 CPU's, 64 GiB memory) for the parallel computing sections. At minimum we recommend a VM with 10 CPU's to make the parallel computations in Section 2.2.1 faster.\n",
    "\n",
    "* Optional Coiled account: To run the section on distributed clusters, Create a coiled account (free to sign up), and connect it to an AWS account. For more information on Coiled, setting up an account, and connecting it to an AWS account, see their website [https://www.coiled.io](https://www.coiled.io). \n",
    "\n",
    "#### Prerequisite knowledge\n",
    "\n",
    "* This notebook covers virtualizarr functionality but does not present the high-level ideas behind it. For an understanding of reference files and how they are meant to enhance in-cloud access to file formats that are not cloud optimized (such netCDF, HDF), please see e.g. this [kerchunk page](https://fsspec.github.io/kerchunk/), or [this page on virtualizarr](https://virtualizarr.readthedocs.io/en/latest/).\n",
    "\n",
    "* Familiarity with the `earthaccess` and `Xarray` packages. Familiarity with directly accessing NASA Earthdata in the cloud. \n",
    "\n",
    "* The Cookbook notebook on [Dask basics](https://podaac.github.io/tutorials/notebooks/Advanced_cloud/basic_dask.html) is handy for those new to parallel computating.\n",
    "\n",
    "#### Learning Outcomes\n",
    "\n",
    "This notebook serves both as a pedagogical resource for learning several key workflows as well as a quick reference guide. Readers will gain the understanding to combine the virtualizarr and earthaccess packages to create virtual dataset reference files for NASA Earthdata."
   ]
  },
  {
   "cell_type": "markdown",
   "id": "88f65dd1-39f6-480a-aa63-adbbd9863e8f",
   "metadata": {},
   "source": [
    "## Import Packages\n",
    "#### ***Note Zarr Version***\n",
    "***Zarr version 2 is needed for the current implementation of this notebook, due to (as of February 2025) Zarr version 3 not accepting `FSMap` objects.***\n",
    "\n",
    "We ran this notebook in a Python 3.12 environment. The minimal working environment we used to run this notebook was:\n",
    "```\n",
    "zarr==2.18.4\n",
    "fastparquet==2024.5.0\n",
    "xarray==2025.1.2\n",
    "earthaccess==0.11.0\n",
    "fsspec==2024.10.0\n",
    "dask==2024.5.2 (\"dask[complete]\"==2024.5.2 if using pip)\n",
    "h5netcdf==1.3.0\n",
    "matplotlib==3.9.2\n",
    "jupyterlab\n",
    "jupyter-server-proxy\n",
    "virtualizarr==1.3.0\n",
    "kerchunk==0.2.7\n",
    "```\n",
    "And optionally:\n",
    "```\n",
    "coiled==1.58.0\n",
    "```"
   ]
  },
  {
   "cell_type": "code",
   "execution_count": 2,
   "id": "48a8e49f-68eb-4624-bb49-17fa292d9ba8",
   "metadata": {},
   "outputs": [
    {
     "name": "stdout",
     "output_type": "stream",
     "text": [
      "Note: you may need to restart the kernel to use updated packages.\n"
     ]
    }
   ],
   "source": [
    "pip install earthaccess>=0.11.0 zarr>=2.18.4 fastparquet>=2024.5.0 xarray>=2024.1.0  fsspec>=2024.10.0 \"dask[complete]\">=2024.5.2 h5netcdf>=1.3.0 ujson>=5.10.0 matplotlib>=3.9.2  kerchunk==0.2.7 virtualizarr>=1.3.0 "
   ]
  },
  {
   "cell_type": "code",
   "execution_count": 2,
   "id": "b540440c-8cf8-4e4c-b2dc-9fb394ac3c65",
   "metadata": {},
   "outputs": [],
   "source": [
    "#!pip list "
   ]
  },
  {
   "cell_type": "code",
   "execution_count": 3,
   "id": "fc0b1c0c-c8f9-412c-8038-4b674de896c9",
   "metadata": {},
   "outputs": [],
   "source": [
    "# Built-in packages\n",
    "import os\n",
    "import sys\n",
    "\n",
    "# Filesystem management \n",
    "import fsspec\n",
    "import earthaccess\n",
    "\n",
    "# Data handling\n",
    "import xarray as xr\n",
    "from virtualizarr import open_virtual_dataset\n",
    "\n",
    "# Parallel computing \n",
    "import multiprocessing\n",
    "from dask import delayed\n",
    "import dask.array as da\n",
    "from dask.distributed import Client\n",
    "\n",
    "# parquet zip file\n",
    "import shutil\n",
    "\n",
    "# Other\n",
    "import matplotlib.pyplot as plt"
   ]
  },
  {
   "cell_type": "markdown",
   "id": "e9e58626-85f4-4fed-b5af-04736ca6f83d",
   "metadata": {},
   "source": [
    "## Other Setup"
   ]
  },
  {
   "cell_type": "code",
   "execution_count": 4,
   "id": "22c5a123-6025-4a85-a7b0-4b9b747a9a8d",
   "metadata": {},
   "outputs": [
    {
     "data": {
      "text/plain": [
       "<xarray.core.options.set_options at 0x7f8a0fdceae0>"
      ]
     },
     "execution_count": 4,
     "metadata": {},
     "output_type": "execute_result"
    }
   ],
   "source": [
    "xr.set_options( # display options for xarray objects\n",
    "    display_expand_attrs=False,\n",
    "    display_expand_coords=True,\n",
    "    display_expand_data=True,\n",
    ")"
   ]
  },
  {
   "cell_type": "markdown",
   "id": "6901e7c4-66ca-4dfb-bd8f-aaf2f0291764",
   "metadata": {},
   "source": [
    "## 1. Get Data File S3 endpoints in Earthdata Cloud \n",
    "The first step is to find the S3 endpoints to the files. Handling access credentials to Earthdata and then finding the endpoints can be done a number of ways (e.g. using the `requests`, `s3fs` packages) but we use the `earthaccess` package for its ease of use. We get the endpoints for all files in the CCMP record."
   ]
  },
  {
   "cell_type": "code",
   "execution_count": 5,
   "id": "20dbc070-d5f7-407e-b92e-4fda1b8a82ba",
   "metadata": {},
   "outputs": [
    {
     "name": "stdin",
     "output_type": "stream",
     "text": [
      "Enter your Earthdata Login username:  edward.m.armstrong\n",
      "Enter your Earthdata password:  ········\n"
     ]
    },
    {
     "data": {
      "text/plain": [
       "<earthaccess.auth.Auth at 0x7f89f515c770>"
      ]
     },
     "execution_count": 5,
     "metadata": {},
     "output_type": "execute_result"
    }
   ],
   "source": [
    "# Get Earthdata creds\n",
    "earthaccess.login()"
   ]
  },
  {
   "cell_type": "code",
   "execution_count": 6,
   "id": "7519aab1-b2aa-40fa-862a-62ed69439ff4",
   "metadata": {},
   "outputs": [],
   "source": [
    "# Get AWS creds. Note that if you spend more than 1 hour in the notebook, you may have to re-run this line!!!\n",
    "fs = earthaccess.get_s3_filesystem(daac=\"PODAAC\")"
   ]
  },
  {
   "cell_type": "code",
   "execution_count": 7,
   "id": "487b4dd6-39c6-4d7e-8051-eddcd22e2a4a",
   "metadata": {},
   "outputs": [
    {
     "name": "stdout",
     "output_type": "stream",
     "text": [
      "CPU times: user 375 ms, sys: 76.6 ms, total: 452 ms\n",
      "Wall time: 8.23 s\n"
     ]
    }
   ],
   "source": [
    "%%time\n",
    "\n",
    "# Locate OSTIA REProcessed  dataset file metadata:\n",
    "granule_info = earthaccess.search_data(\n",
    "    short_name=\"OSTIA-UKMO-L4-GLOB-REP-v2.0\",\n",
    "    provider=\"POCLOUD\",\n",
    "    temporal=(\"1982-01-01\", \"2023-12-31\")\n",
    "    )"
   ]
  },
  {
   "cell_type": "code",
   "execution_count": 8,
   "id": "0fc311a3-df1a-4565-a314-658bff759203",
   "metadata": {},
   "outputs": [
    {
     "name": "stdout",
     "output_type": "stream",
     "text": [
      "['s3://podaac-ops-cumulus-protected/OSTIA-UKMO-L4-GLOB-REP-v2.0/1982/001/19820101120000-UKMO-L4_GHRSST-SSTfnd-OSTIA-GLOB_REP-v02.0-fv02.0.nc', 's3://podaac-ops-cumulus-protected/OSTIA-UKMO-L4-GLOB-REP-v2.0/1982/002/19820102120000-UKMO-L4_GHRSST-SSTfnd-OSTIA-GLOB_REP-v02.0-fv02.0.nc', 's3://podaac-ops-cumulus-protected/OSTIA-UKMO-L4-GLOB-REP-v2.0/1982/003/19820103120000-UKMO-L4_GHRSST-SSTfnd-OSTIA-GLOB_REP-v02.0-fv02.0.nc']\n",
      "15340\n"
     ]
    }
   ],
   "source": [
    "# Extract S3 endpoints for all files from metadata:\n",
    "data_s3links = [g.data_links(access=\"direct\")[0] for g in granule_info]\n",
    "print(data_s3links[0:3])\n",
    "print(len(data_s3links))"
   ]
  },
  {
   "cell_type": "markdown",
   "id": "20756ad2-4fdf-4f7a-8582-aa7d59ea35e5",
   "metadata": {},
   "source": [
    "## 2. Generate reference files for the OSTIA REP dataset"
   ]
  },
  {
   "cell_type": "markdown",
   "id": "a146d00a-cf61-4ed4-96e2-6db0a19bb466",
   "metadata": {},
   "source": [
    "### 2.1 Try just the first day\n",
    "\n",
    "\n",
    "***Important***\n",
    "\n",
    "The kwarg `loadable_variables` is not mandatory to create a viable reference file, but will become important for rapid lazy loading when working with large combined reference files. Assign to this at minimum the list of 1D coordinate variable names for the data set (additional 1D or scalar vars can also be added). This functionality will be the default in future releases of virtualizarr."
   ]
  },
  {
   "cell_type": "code",
   "execution_count": 9,
   "id": "75957e8b-2c74-49ac-9413-38cc54f86a49",
   "metadata": {},
   "outputs": [],
   "source": [
    "# This will be assigned to 'loadable_variables' and needs to be modified per the specific \n",
    "# coord names of the data set:\n",
    "coord_vars = [\"lat\",\"lon\",\"time\"]"
   ]
  },
  {
   "cell_type": "code",
   "execution_count": 10,
   "id": "329db221-b2dc-41de-8e67-3405402e4fa2",
   "metadata": {},
   "outputs": [
    {
     "name": "stdout",
     "output_type": "stream",
     "text": [
      "<xarray.Dataset> Size: 648MB\n",
      "Dimensions:           (time: 1, lat: 3600, lon: 7200)\n",
      "Coordinates:\n",
      "  * time              (time) datetime64[ns] 8B 1982-01-01T12:00:00\n",
      "  * lat               (lat) float32 14kB -89.97 -89.93 -89.88 ... 89.93 89.97\n",
      "  * lon               (lon) float32 29kB -180.0 -179.9 -179.9 ... 179.9 180.0\n",
      "Data variables:\n",
      "    analysed_sst      (time, lat, lon) float64 207MB ManifestArray<shape=(1, ...\n",
      "    analysis_error    (time, lat, lon) float64 207MB ManifestArray<shape=(1, ...\n",
      "    sea_ice_fraction  (time, lat, lon) float64 207MB ManifestArray<shape=(1, ...\n",
      "    mask              (time, lat, lon) int8 26MB ManifestArray<shape=(1, 3600...\n",
      "Attributes: (47)\n",
      "CPU times: user 273 ms, sys: 47.9 ms, total: 321 ms\n",
      "Wall time: 999 ms\n"
     ]
    }
   ],
   "source": [
    "%%time\n",
    "reader_opts = {\"storage_options\": fs.storage_options} # S3 filesystem creds from previous section.\n",
    "\n",
    "# Create reference for the first data file:\n",
    "virtual_ds_example = open_virtual_dataset(\n",
    "    data_s3links[0], indexes={}, \n",
    "    reader_options=reader_opts, loadable_variables=coord_vars\n",
    "    )\n",
    "print(virtual_ds_example)"
   ]
  },
  {
   "cell_type": "markdown",
   "id": "28b850da-5df5-460e-81f3-0450a2904667",
   "metadata": {},
   "source": [
    "The reference can be saved to file and used to open the corresponding CCMP data file with Xarray:"
   ]
  },
  {
   "cell_type": "code",
   "execution_count": 11,
   "id": "f9e53d64-6547-4193-a24e-6018bbad0476",
   "metadata": {},
   "outputs": [],
   "source": [
    "virtual_ds_example.virtualize.to_kerchunk('virtual_ds_example.json', format='json')"
   ]
  },
  {
   "cell_type": "code",
   "execution_count": 12,
   "id": "15707ccc-fcb3-4bf9-94cb-71b11d468054",
   "metadata": {},
   "outputs": [],
   "source": [
    "# Open data using the reference file, using a small wrapper function around xarray's open_dataset. \n",
    "# This will shorten code blocks in other sections. \n",
    "def opends_withref(ref, fs_data):\n",
    "    \"\"\"\n",
    "    \"ref\" is a reference file or object. \"fs_data\" is a filesystem with credentials to\n",
    "    access the actual data files. \n",
    "    \"\"\"\n",
    "    storage_opts = {\"fo\": ref, \"remote_protocol\": \"s3\", \"remote_options\": fs_data.storage_options}\n",
    "    fs_ref = fsspec.filesystem('reference', **storage_opts)\n",
    "    m = fs_ref.get_mapper('')\n",
    "    data = xr.open_dataset(\n",
    "        m, engine=\"zarr\", chunks={},\n",
    "        backend_kwargs={\"consolidated\": False}\n",
    "    )\n",
    "    return data"
   ]
  },
  {
   "cell_type": "code",
   "execution_count": 13,
   "id": "b02a2f1c-2b53-4a0b-ba0e-2bc0a35fce00",
   "metadata": {},
   "outputs": [
    {
     "name": "stdout",
     "output_type": "stream",
     "text": [
      "<xarray.Dataset> Size: 726MB\n",
      "Dimensions:           (time: 1, lat: 3600, lon: 7200)\n",
      "Coordinates:\n",
      "  * lat               (lat) float32 14kB -89.97 -89.93 -89.88 ... 89.93 89.97\n",
      "  * lon               (lon) float32 29kB -180.0 -179.9 -179.9 ... 179.9 180.0\n",
      "  * time              (time) datetime64[ns] 8B 1982-01-01T12:00:00\n",
      "Data variables:\n",
      "    analysed_sst      (time, lat, lon) float64 207MB dask.array<chunksize=(1, 1200, 2400), meta=np.ndarray>\n",
      "    analysis_error    (time, lat, lon) float64 207MB dask.array<chunksize=(1, 1200, 2400), meta=np.ndarray>\n",
      "    mask              (time, lat, lon) float32 104MB dask.array<chunksize=(1, 1800, 3600), meta=np.ndarray>\n",
      "    sea_ice_fraction  (time, lat, lon) float64 207MB dask.array<chunksize=(1, 1800, 3600), meta=np.ndarray>\n",
      "Attributes: (47)\n"
     ]
    }
   ],
   "source": [
    "data_example = opends_withref('virtual_ds_example.json', fs)\n",
    "print(data_example)"
   ]
  },
  {
   "cell_type": "code",
   "execution_count": 14,
   "id": "051e7d34-594c-40dc-9219-6e281ccea777",
   "metadata": {},
   "outputs": [
    {
     "name": "stdout",
     "output_type": "stream",
     "text": [
      "120 bytes\n"
     ]
    }
   ],
   "source": [
    "# Also useful to note, these reference objects don't take much memory:\n",
    "print(sys.getsizeof(virtual_ds_example), \"bytes\")"
   ]
  },
  {
   "cell_type": "markdown",
   "id": "410b4028-b31d-4c28-a78d-2fedebcf967c",
   "metadata": {
    "jp-MarkdownHeadingCollapsed": true
   },
   "source": [
    "### 2.2 Now do the entire record \n",
    "Reference information for each data file in the entire record is created individually in memory, and then the combined reference file for the record can be created.\n",
    "\n",
    "For us, reference file creation for a single file takes about 0.7 seconds, so processing a year of files would take about 4.25 minuts. One can easly accomplish this with a for-loop:\n",
    "\n",
    "```\n",
    "virtual_ds_list = [\n",
    "    open_virtual_dataset(\n",
    "        p, indexes={},\n",
    "        reader_options={\"storage_options\": fs.storage_options},\n",
    "        loadable_variables=coord_vars\n",
    "        )\n",
    "    for p in data_s3links\n",
    "    ]\n",
    "```\n",
    "\n",
    "However, we speed things up using basic parallel computing. "
   ]
  },
  {
   "cell_type": "markdown",
   "id": "9e4fc53c-2bf2-4b9d-9ab7-32a498011bd4",
   "metadata": {},
   "source": [
    "### 2.2.1 Method 1: parallelize using Dask local cluster\n",
    "If using an `m6i.8xlarge` AWS EC2 instance, there are 32 CPUs available and each should have enough memory to utilize all at once. If working on a different VM-type, change the `n_workers` in the call to `Client()` below as needed."
   ]
  },
  {
   "cell_type": "code",
   "execution_count": 15,
   "id": "f6bae28c-0527-4ad8-8065-f6187fb46961",
   "metadata": {},
   "outputs": [
    {
     "name": "stdout",
     "output_type": "stream",
     "text": [
      "CPU count = 32\n"
     ]
    }
   ],
   "source": [
    "# Check how many cpu's are on this VM:\n",
    "print(\"CPU count =\", multiprocessing.cpu_count())"
   ]
  },
  {
   "cell_type": "code",
   "execution_count": 16,
   "id": "081fdd0e-03c7-4746-9066-9c1342b99cb2",
   "metadata": {
    "scrolled": true
   },
   "outputs": [
    {
     "name": "stdout",
     "output_type": "stream",
     "text": [
      "LocalCluster(f5360d3e, 'tcp://127.0.0.1:41887', workers=15, threads=15, memory=122.31 GiB)\n",
      "View any work being done on the cluster here https://cluster-dwzfu.dask.host/jupyter/proxy/8787/status\n"
     ]
    }
   ],
   "source": [
    "# Start up cluster and print some information about it:\n",
    "client = Client(n_workers=15, threads_per_worker=1)\n",
    "print(client.cluster)\n",
    "print(\"View any work being done on the cluster here\", client.dashboard_link)"
   ]
  },
  {
   "cell_type": "code",
   "execution_count": 17,
   "id": "cd722c4e-7b51-4807-b138-c9e1052ba465",
   "metadata": {
    "scrolled": true
   },
   "outputs": [
    {
     "name": "stdout",
     "output_type": "stream",
     "text": [
      "CPU times: user 3min 21s, sys: 27.9 s, total: 3min 49s\n",
      "Wall time: 19min 50s\n"
     ]
    }
   ],
   "source": [
    "%%time\n",
    "# Create individual references in memory (this may take a while):\n",
    "open_vds_par = delayed(open_virtual_dataset)\n",
    "tasks = [\n",
    "    open_vds_par(p, indexes={}, reader_options=reader_opts, loadable_variables=coord_vars) \n",
    "    for p in data_s3links[:] # all files !\n",
    "    ]\n",
    "virtual_ds_list = list(da.compute(*tasks)) # The xr.combine_nested() function below needs a list rather than a tuple."
   ]
  },
  {
   "cell_type": "markdown",
   "id": "8d0e17f4-8a71-49ea-b18c-de13f2cebd2a",
   "metadata": {},
   "source": [
    "Using the individual references to create the combined reference is fast and does not requre parallel computing."
   ]
  },
  {
   "cell_type": "code",
   "execution_count": 18,
   "id": "45722c2f-a4c5-4249-a2d6-06761ff35052",
   "metadata": {},
   "outputs": [
    {
     "name": "stdout",
     "output_type": "stream",
     "text": [
      "CPU times: user 11.3 s, sys: 438 ms, total: 11.7 s\n",
      "Wall time: 11.4 s\n"
     ]
    }
   ],
   "source": [
    "%%time\n",
    "# Create the combined reference\n",
    "virtual_ds_combined = xr.combine_nested(virtual_ds_list, concat_dim='time', coords='minimal', compat='override', combine_attrs='drop_conflicts')"
   ]
  },
  {
   "cell_type": "code",
   "execution_count": 23,
   "id": "d1628e4a-0e46-45ec-bd9e-63922fd085f6",
   "metadata": {},
   "outputs": [],
   "source": [
    "# Save in JSON or PARQUET format:\n",
    "fname_combined_json = 'OSTIA-UKMO-L4-GLOB-REP-v2.0_combined-ref.json'\n",
    "fname_combined_parq = 'OSTIA-UKMO-L4-GLOB-REP-v2.0_combined-ref.parq'\n",
    "virtual_ds_combined.virtualize.to_kerchunk(fname_combined_json, format='json')\n",
    "virtual_ds_combined.virtualize.to_kerchunk(fname_combined_parq, format='parquet')"
   ]
  },
  {
   "cell_type": "code",
   "execution_count": 24,
   "id": "e94bfee1-087a-4290-83a3-609de26a519d",
   "metadata": {},
   "outputs": [
    {
     "name": "stdout",
     "output_type": "stream",
     "text": [
      "<xarray.Dataset> Size: 11TB\n",
      "Dimensions:           (time: 15340, lat: 3600, lon: 7200)\n",
      "Coordinates:\n",
      "  * lat               (lat) float32 14kB -89.97 -89.93 -89.88 ... 89.93 89.97\n",
      "  * lon               (lon) float32 29kB -180.0 -179.9 -179.9 ... 179.9 180.0\n",
      "  * time              (time) datetime64[ns] 123kB 1982-01-01T12:00:00 ... 202...\n",
      "Data variables:\n",
      "    analysed_sst      (time, lat, lon) float64 3TB dask.array<chunksize=(1, 1200, 2400), meta=np.ndarray>\n",
      "    analysis_error    (time, lat, lon) float64 3TB dask.array<chunksize=(1, 1200, 2400), meta=np.ndarray>\n",
      "    mask              (time, lat, lon) float32 2TB dask.array<chunksize=(1, 1800, 3600), meta=np.ndarray>\n",
      "    sea_ice_fraction  (time, lat, lon) float64 3TB dask.array<chunksize=(1, 1800, 3600), meta=np.ndarray>\n",
      "Attributes: (39)\n",
      "CPU times: user 3.04 s, sys: 261 ms, total: 3.3 s\n",
      "Wall time: 3.2 s\n"
     ]
    }
   ],
   "source": [
    "%%time\n",
    "# Test lazy loading of the combine reference file JSON:\n",
    "data_json = opends_withref(fname_combined_json, fs)\n",
    "print(data_json)"
   ]
  },
  {
   "cell_type": "code",
   "execution_count": 25,
   "id": "89451f0c-7453-4fee-843f-5faa196bcda1",
   "metadata": {},
   "outputs": [
    {
     "name": "stdout",
     "output_type": "stream",
     "text": [
      "<xarray.Dataset> Size: 11TB\n",
      "Dimensions:           (time: 15340, lat: 3600, lon: 7200)\n",
      "Coordinates:\n",
      "  * lat               (lat) float32 14kB -89.97 -89.93 -89.88 ... 89.93 89.97\n",
      "  * lon               (lon) float32 29kB -180.0 -179.9 -179.9 ... 179.9 180.0\n",
      "  * time              (time) datetime64[ns] 123kB 1982-01-01T12:00:00 ... 202...\n",
      "Data variables:\n",
      "    analysed_sst      (time, lat, lon) float64 3TB dask.array<chunksize=(1, 1200, 2400), meta=np.ndarray>\n",
      "    analysis_error    (time, lat, lon) float64 3TB dask.array<chunksize=(1, 1200, 2400), meta=np.ndarray>\n",
      "    mask              (time, lat, lon) float32 2TB dask.array<chunksize=(1, 1800, 3600), meta=np.ndarray>\n",
      "    sea_ice_fraction  (time, lat, lon) float64 3TB dask.array<chunksize=(1, 1800, 3600), meta=np.ndarray>\n",
      "Attributes: (39)\n",
      "CPU times: user 41.5 ms, sys: 3.55 ms, total: 45.1 ms\n",
      "Wall time: 43.1 ms\n"
     ]
    }
   ],
   "source": [
    "%%time\n",
    "# Test lazy loading of the combine reference file PARQUET:\n",
    "data_parq = opends_withref(fname_combined_parq, fs)\n",
    "print(data_parq)"
   ]
  },
  {
   "cell_type": "code",
   "execution_count": 26,
   "id": "5632559e-6267-4441-bafa-314b00ba09c0",
   "metadata": {},
   "outputs": [
    {
     "data": {
      "text/plain": [
       "'/scratch/notebook/ref_combined_OSTIA-UKMO-L4-GLOB-REP-v2.0.parq.zip'"
      ]
     },
     "execution_count": 26,
     "metadata": {},
     "output_type": "execute_result"
    }
   ],
   "source": [
    "# write out the zipped  parquet directory  \n",
    "\n",
    "# Zip PARQUET directory\n",
    "shutil.make_archive(fname_combined_parq, 'zip', fname_combined_parq)"
   ]
  },
  {
   "cell_type": "code",
   "execution_count": null,
   "id": "3d0c311a-9523-44d4-96eb-b88db5bda632",
   "metadata": {},
   "outputs": [],
   "source": [
    "open_vds_par.cluster.shutdown()"
   ]
  },
  {
   "cell_type": "markdown",
   "id": "112d5580-472d-4525-994f-32e96bf85293",
   "metadata": {},
   "source": [
    "Using the individual references to create the combined reference is fast and does not requre parallel computing."
   ]
  },
  {
   "cell_type": "markdown",
   "id": "a176122c-e85b-4bf1-aa70-804f50d396bb",
   "metadata": {},
   "source": [
    "For us, lazy loading the entire record took ~3 seconds. Compare that to an attempt at opening these same files with `Xarray` the \"traditional\" way with a call to `xr.open_mfdataset()`. On a smaller machine, the following line of code will either fail or take a long (possibly very long) amount of time:"
   ]
  },
  {
   "cell_type": "code",
   "execution_count": null,
   "id": "ec7ac19b-217b-472b-993a-0c560a228c30",
   "metadata": {},
   "outputs": [],
   "source": [
    "## You can try un-commenting and running this but your notebook will probably stall or crash:\n",
    "# fobjs = earthaccess.open(granule_info)\n",
    "# data = xr.open_mfdataset(fobjs[:])"
   ]
  }
 ],
 "metadata": {
  "kernelspec": {
   "display_name": "Python 3 (ipykernel)",
   "language": "python",
   "name": "python3"
  },
  "language_info": {
   "codemirror_mode": {
    "name": "ipython",
    "version": 3
   },
   "file_extension": ".py",
   "mimetype": "text/x-python",
   "name": "python",
   "nbconvert_exporter": "python",
   "pygments_lexer": "ipython3",
   "version": "3.12.9"
  }
 },
 "nbformat": 4,
 "nbformat_minor": 5
}
